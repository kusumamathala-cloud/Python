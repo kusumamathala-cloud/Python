{
  "nbformat": 4,
  "nbformat_minor": 0,
  "metadata": {
    "colab": {
      "provenance": [],
      "authorship_tag": "ABX9TyMvpRZ4OwquebtMRYnluzcc",
      "include_colab_link": true
    },
    "kernelspec": {
      "name": "python3",
      "display_name": "Python 3"
    },
    "language_info": {
      "name": "python"
    }
  },
  "cells": [
    {
      "cell_type": "markdown",
      "metadata": {
        "id": "view-in-github",
        "colab_type": "text"
      },
      "source": [
        "<a href=\"https://colab.research.google.com/github/kusumamathala-cloud/Python/blob/main/Python_py.ipynb\" target=\"_parent\"><img src=\"https://colab.research.google.com/assets/colab-badge.svg\" alt=\"Open In Colab\"/></a>"
      ]
    },
    {
      "cell_type": "code",
      "execution_count": null,
      "metadata": {
        "colab": {
          "base_uri": "https://localhost:8080/"
        },
        "id": "s8bmt4G3NSRM",
        "outputId": "0ced1eea-12a3-46e7-af96-6c37b18e308e"
      },
      "outputs": [
        {
          "output_type": "stream",
          "name": "stdout",
          "text": [
            "23\n"
          ]
        }
      ],
      "source": [
        "a=23\n",
        "print (a)"
      ]
    },
    {
      "cell_type": "code",
      "source": [
        "a=int(input())\n",
        "print (a)"
      ],
      "metadata": {
        "colab": {
          "base_uri": "https://localhost:8080/"
        },
        "id": "JPxrc8O1NhXd",
        "outputId": "569fc411-4ce3-4ebc-fb5f-622f20d63c68"
      },
      "execution_count": null,
      "outputs": [
        {
          "output_type": "stream",
          "name": "stdout",
          "text": [
            "3\n",
            "3\n"
          ]
        }
      ]
    },
    {
      "cell_type": "code",
      "source": [
        "a=45\n",
        "print (type (a))"
      ],
      "metadata": {
        "colab": {
          "base_uri": "https://localhost:8080/"
        },
        "id": "GjTOdR1nN-zV",
        "outputId": "dbca5d1f-e30c-438f-f01a-f2d62551f826"
      },
      "execution_count": null,
      "outputs": [
        {
          "output_type": "stream",
          "name": "stdout",
          "text": [
            "<class 'int'>\n"
          ]
        }
      ]
    },
    {
      "cell_type": "code",
      "source": [
        "X=0.2\n",
        "print (X)"
      ],
      "metadata": {
        "colab": {
          "base_uri": "https://localhost:8080/"
        },
        "id": "YF3rDztqOVPX",
        "outputId": "bcb1ce3e-b407-42d3-be8d-df787eb6b0f2"
      },
      "execution_count": null,
      "outputs": [
        {
          "output_type": "stream",
          "name": "stdout",
          "text": [
            "0.2\n"
          ]
        }
      ]
    },
    {
      "cell_type": "code",
      "source": [
        "a=8.9\n",
        "print (type (a))"
      ],
      "metadata": {
        "colab": {
          "base_uri": "https://localhost:8080/"
        },
        "id": "P3rmks7HOc3E",
        "outputId": "1de3706c-a443-4c2d-8811-9c947a995059"
      },
      "execution_count": null,
      "outputs": [
        {
          "output_type": "stream",
          "name": "stdout",
          "text": [
            "<class 'float'>\n"
          ]
        }
      ]
    },
    {
      "cell_type": "code",
      "source": [
        "a=9j\n",
        "print (a)"
      ],
      "metadata": {
        "colab": {
          "base_uri": "https://localhost:8080/"
        },
        "id": "sUG-TqcoOoBn",
        "outputId": "a0620766-1f5e-48ad-aeb9-7a003ece596b"
      },
      "execution_count": null,
      "outputs": [
        {
          "output_type": "stream",
          "name": "stdout",
          "text": [
            "9j\n"
          ]
        }
      ]
    },
    {
      "cell_type": "code",
      "source": [
        "a=33j\n",
        "print (type (a))"
      ],
      "metadata": {
        "colab": {
          "base_uri": "https://localhost:8080/"
        },
        "id": "nmM0dtkMOxMh",
        "outputId": "dfa0501a-7544-4f46-a81c-f09d3c611e3d"
      },
      "execution_count": null,
      "outputs": [
        {
          "output_type": "stream",
          "name": "stdout",
          "text": [
            "<class 'complex'>\n"
          ]
        }
      ]
    },
    {
      "cell_type": "code",
      "source": [
        "a=(\"kussu\")\n",
        "print (a)"
      ],
      "metadata": {
        "colab": {
          "base_uri": "https://localhost:8080/"
        },
        "id": "Bx9I7lSUPBfh",
        "outputId": "8e1c8dd2-8687-450d-ee25-37cdc882f1f8"
      },
      "execution_count": null,
      "outputs": [
        {
          "output_type": "stream",
          "name": "stdout",
          "text": [
            "kussu\n"
          ]
        }
      ]
    },
    {
      "cell_type": "code",
      "source": [
        "a=(\"kussu\")\n",
        "print (type (a))"
      ],
      "metadata": {
        "colab": {
          "base_uri": "https://localhost:8080/"
        },
        "id": "3doUJ2jYPM3j",
        "outputId": "ab29a5c7-aa9d-42e3-af14-8efc36606071"
      },
      "execution_count": null,
      "outputs": [
        {
          "output_type": "stream",
          "name": "stdout",
          "text": [
            "<class 'str'>\n"
          ]
        }
      ]
    },
    {
      "cell_type": "code",
      "source": [
        "a=float (5)\n",
        "print (a)"
      ],
      "metadata": {
        "colab": {
          "base_uri": "https://localhost:8080/"
        },
        "id": "X15o8I76PbGu",
        "outputId": "0f6c2a07-b328-4269-96af-24a890b040f2"
      },
      "execution_count": null,
      "outputs": [
        {
          "output_type": "stream",
          "name": "stdout",
          "text": [
            "5.0\n"
          ]
        }
      ]
    },
    {
      "cell_type": "code",
      "source": [
        "X={\"name\":\" kusuma\",\"age\":17,}\n",
        "print (X)\n",
        "print (type (X))"
      ],
      "metadata": {
        "colab": {
          "base_uri": "https://localhost:8080/"
        },
        "id": "KhnVkvW6P1G9",
        "outputId": "b6a91ccd-2d56-4212-8d45-cf6fc922eb17"
      },
      "execution_count": null,
      "outputs": [
        {
          "output_type": "stream",
          "name": "stdout",
          "text": [
            "{'name': ' kusuma', 'age': 17}\n",
            "<class 'dict'>\n"
          ]
        }
      ]
    },
    {
      "cell_type": "code",
      "source": [
        "X={\"name\":\"kusuma\",\"age\":16,}\n",
        "print (X.keys())\n",
        "print (X.values())\n",
        "print (X.items())\n",
        "print (X)\n",
        "print (type (X))"
      ],
      "metadata": {
        "colab": {
          "base_uri": "https://localhost:8080/"
        },
        "id": "xIKEXKxVQxKr",
        "outputId": "cb34b569-3a5b-4e09-aaf1-cf52c8c8e082"
      },
      "execution_count": null,
      "outputs": [
        {
          "output_type": "stream",
          "name": "stdout",
          "text": [
            "dict_keys(['name', 'age'])\n",
            "dict_values(['kusuma', 16])\n",
            "dict_items([('name', 'kusuma'), ('age', 16)])\n",
            "{'name': 'kusuma', 'age': 16}\n",
            "<class 'dict'>\n"
          ]
        }
      ]
    },
    {
      "cell_type": "code",
      "source": [
        "x=(\"apple\",\"banana\",\"kusuma\",6,6,6,6.2)\n",
        "print (x.count(6))\n",
        "print (x)\n",
        "print (type (x))"
      ],
      "metadata": {
        "colab": {
          "base_uri": "https://localhost:8080/"
        },
        "id": "gwITWmlSRq_t",
        "outputId": "0ca968a7-36c2-4449-9163-47a262461f43"
      },
      "execution_count": null,
      "outputs": [
        {
          "output_type": "stream",
          "name": "stdout",
          "text": [
            "3\n",
            "('apple', 'banana', 'kusuma', 6, 6, 6, 6.2)\n",
            "<class 'tuple'>\n"
          ]
        }
      ]
    }
  ]
}